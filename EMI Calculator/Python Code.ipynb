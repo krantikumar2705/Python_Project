{
 "cells": [
  {
   "cell_type": "markdown",
   "id": "10ddf68b",
   "metadata": {},
   "source": [
    "# BMI Calculator"
   ]
  },
  {
   "cell_type": "code",
   "execution_count": null,
   "id": "fce05830",
   "metadata": {},
   "outputs": [],
   "source": [
    "# BMI = 75 / (180/100)**2 "
   ]
  },
  {
   "cell_type": "code",
   "execution_count": 6,
   "id": "10837e3e",
   "metadata": {},
   "outputs": [
    {
     "name": "stdout",
     "output_type": "stream",
     "text": [
      "Height in Centimeter :180\n",
      "Weight in kilogram: 75\n",
      "Your Body Mass Index is 23.148148148148145\n",
      "Awesome! You are healthy.\n"
     ]
    }
   ],
   "source": [
    "height=float(input(\"Height in Centimeter :\"))\n",
    "weight=float(input(\"Weight in kilogram: \"))\n",
    "\n",
    "BMI = 75 / (180/100)**2 \n",
    "\n",
    "print(\"Your Body Mass Index is\", BMI)  \n",
    "\n",
    "if BMI <= 18.5:  \n",
    "    print(\"Oops! You are underweight.\")  \n",
    "elif BMI <= 24.9:  \n",
    "    print(\"Awesome! You are healthy.\")  \n",
    "elif BMI <= 29.9:  \n",
    "    print(\"Eee! You are overweight.\")  \n",
    "else:  \n",
    "    print(\"Seesh! You are obese.\")  "
   ]
  },
  {
   "cell_type": "code",
   "execution_count": null,
   "id": "a6cd75fc",
   "metadata": {},
   "outputs": [],
   "source": []
  },
  {
   "cell_type": "code",
   "execution_count": null,
   "id": "9adfc34b",
   "metadata": {},
   "outputs": [],
   "source": []
  }
 ],
 "metadata": {
  "kernelspec": {
   "display_name": "Python 3 (ipykernel)",
   "language": "python",
   "name": "python3"
  },
  "language_info": {
   "codemirror_mode": {
    "name": "ipython",
    "version": 3
   },
   "file_extension": ".py",
   "mimetype": "text/x-python",
   "name": "python",
   "nbconvert_exporter": "python",
   "pygments_lexer": "ipython3",
   "version": "3.11.5"
  }
 },
 "nbformat": 4,
 "nbformat_minor": 5
}
