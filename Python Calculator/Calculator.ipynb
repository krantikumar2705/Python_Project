{
 "cells": [
  {
   "cell_type": "code",
   "execution_count": 2,
   "id": "ee9382cb-3c82-4d14-b34e-7fccbca29ddb",
   "metadata": {},
   "outputs": [
    {
     "name": "stdin",
     "output_type": "stream",
     "text": [
      "Type Your 1st Number:-  30\n",
      "Type Your Operator (+ - x /):-  -\n",
      "Type Your 2nd Number:-  15\n"
     ]
    },
    {
     "name": "stdout",
     "output_type": "stream",
     "text": [
      "Your Answer 15\n"
     ]
    }
   ],
   "source": [
    "num1 = int(input(\"Type Your 1st Number:- \"))\n",
    "operator = input(\"Type Your Operator (+ - x /):- \")\n",
    "num2 = int(input(\"Type Your 2nd Number:- \"))\n",
    "\n",
    "if operator == \"+\":\n",
    "    result = num1 + num2\n",
    "    print(\"Your Answer\",round(result, 3))\n",
    "elif operator == \"-\":\n",
    "    result = num1 - num2\n",
    "    print(\"Your Answer\",round(result, 3))\n",
    "elif operator == \"*\":\n",
    "    result = num1 * num2\n",
    "    print(\"Your Answer\",round(result, 3))\n",
    "elif operator == \"/\":\n",
    "    result = num1 / num2\n",
    "    print(\"Your Answer\",round(result, 3))\n",
    "else:\n",
    "    print(f\"{operator} is not valid\")"
   ]
  },
  {
   "cell_type": "code",
   "execution_count": null,
   "id": "9b5cc374-4f9a-4ac8-8c74-e58fb57484fa",
   "metadata": {},
   "outputs": [],
   "source": []
  }
 ],
 "metadata": {
  "kernelspec": {
   "display_name": "Python 3 (ipykernel)",
   "language": "python",
   "name": "python3"
  },
  "language_info": {
   "codemirror_mode": {
    "name": "ipython",
    "version": 3
   },
   "file_extension": ".py",
   "mimetype": "text/x-python",
   "name": "python",
   "nbconvert_exporter": "python",
   "pygments_lexer": "ipython3",
   "version": "3.11.7"
  }
 },
 "nbformat": 4,
 "nbformat_minor": 5
}
