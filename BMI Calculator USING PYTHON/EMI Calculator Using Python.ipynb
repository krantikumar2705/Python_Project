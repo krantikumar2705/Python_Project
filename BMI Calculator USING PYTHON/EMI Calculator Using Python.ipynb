{
 "cells": [
  {
   "cell_type": "markdown",
   "id": "c7f4bca5",
   "metadata": {},
   "source": [
    "# BMI Calculator"
   ]
  },
  {
   "cell_type": "code",
   "execution_count": null,
   "id": "313ed3a1",
   "metadata": {},
   "outputs": [],
   "source": [
    "# BMI = weight / (height/100)**2 "
   ]
  },
  {
   "cell_type": "code",
   "execution_count": 1,
   "id": "91c79c3e",
   "metadata": {},
   "outputs": [
    {
     "name": "stdout",
     "output_type": "stream",
     "text": [
      "Height in Centimeter :-180\n",
      "Weight in kilogram:-75\n",
      "Your Body Mass Index is 23.148148148148145\n",
      "Awesome :) You are healthy SuperMan.\n"
     ]
    }
   ],
   "source": [
    "height=float(input(\"Height in Centimeter :-\"))\n",
    "weight=float(input(\"Weight in kilogram:-\"))\n",
    "\n",
    "BMI = weight / (height/100)**2 \n",
    "\n",
    "print(\"Your Body Mass Index is\", BMI)  \n",
    "\n",
    "if BMI <= 18.5:  \n",
    "    print(\"Oops Bro, Your Need To Gain Weight.\")  \n",
    "elif BMI <= 24.9:  \n",
    "    print(\"Awesome :) You are healthy SuperMan.\")  \n",
    "elif BMI <= 29.9:  \n",
    "    print(\"Nah You are overweight.\")  \n",
    "else:  \n",
    "    print(\"OMG, You Are burden on earth.\")  "
   ]
  },
  {
   "cell_type": "code",
   "execution_count": null,
   "id": "e8212878",
   "metadata": {},
   "outputs": [],
   "source": []
  },
  {
   "cell_type": "code",
   "execution_count": null,
   "id": "cbe951b2",
   "metadata": {},
   "outputs": [],
   "source": []
  }
 ],
 "metadata": {
  "kernelspec": {
   "display_name": "Python 3 (ipykernel)",
   "language": "python",
   "name": "python3"
  },
  "language_info": {
   "codemirror_mode": {
    "name": "ipython",
    "version": 3
   },
   "file_extension": ".py",
   "mimetype": "text/x-python",
   "name": "python",
   "nbconvert_exporter": "python",
   "pygments_lexer": "ipython3",
   "version": "3.11.5"
  }
 },
 "nbformat": 4,
 "nbformat_minor": 5
}
